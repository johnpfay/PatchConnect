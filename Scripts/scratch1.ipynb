{
 "cells": [
  {
   "cell_type": "code",
   "execution_count": 13,
   "metadata": {},
   "outputs": [],
   "source": [
    "import networkx as nx\n",
    "import pandas as pd\n"
   ]
  },
  {
   "cell_type": "code",
   "execution_count": 36,
   "metadata": {},
   "outputs": [],
   "source": [
    "#Read in edge list\n",
    "df = pd.read_csv('./data/EdgeList_V2.csv')\n",
    "df.columns = ['n1','n2','weight']"
   ]
  },
  {
   "cell_type": "code",
   "execution_count": 37,
   "metadata": {},
   "outputs": [
    {
     "data": {
      "text/plain": [
       "59340"
      ]
     },
     "execution_count": 37,
     "metadata": {},
     "output_type": "execute_result"
    }
   ],
   "source": [
    "#Convert to weighted graph\n",
    "G = nx.from_pandas_edgelist(df,source='n1',target='n2',edge_attr=['weight'])\n",
    "G.number_of_edges()"
   ]
  },
  {
   "cell_type": "code",
   "execution_count": 42,
   "metadata": {},
   "outputs": [],
   "source": [
    "Gts = {}\n",
    "nbunch = G.nodes()\n",
    "edges = G.edges(data=True)"
   ]
  },
  {
   "cell_type": "code",
   "execution_count": 43,
   "metadata": {},
   "outputs": [],
   "source": [
    "#Create thresholded subgraphs\n",
    "min_wt = 0\n",
    "max_wt = 2000\n",
    "winc = 200\n",
    "for wt in range(min_wt, max_wt+winc, winc):\n",
    "   tGw = nx.Graph()\n",
    "   tGw.add_nodes_from(nbunch)\n",
    "   for e in edges:\n",
    "       (n1, n2, w) = e\n",
    "       if w['weight'] <= wt:\n",
    "           tGw.add_edge(n1, n2, weight='w')\n",
    "   Gts[wt] = tGw"
   ]
  },
  {
   "cell_type": "code",
   "execution_count": 53,
   "metadata": {},
   "outputs": [
    {
     "data": {
      "text/plain": [
       "False"
      ]
     },
     "execution_count": 53,
     "metadata": {},
     "output_type": "execute_result"
    }
   ],
   "source": [
    "#for d,g in Gts.items():\n",
    "d = 2000\n",
    "g = Gts[d]\n",
    "nx.is_connected(g)"
   ]
  },
  {
   "cell_type": "code",
   "execution_count": 55,
   "metadata": {},
   "outputs": [],
   "source": [
    "nc = nx.number_connected_components(g)\n",
    "gc_set = sorted(nx.connected_components(g), key=len, reverse=True)"
   ]
  },
  {
   "cell_type": "code",
   "execution_count": null,
   "metadata": {},
   "outputs": [],
   "source": [
    "gc = gc.sub"
   ]
  }
 ],
 "metadata": {
  "kernelspec": {
   "display_name": "ArcGISPro",
   "language": "Python",
   "name": "python3"
  },
  "language_info": {
   "file_extension": ".py",
   "name": "python",
   "version": "3"
  }
 },
 "nbformat": 4,
 "nbformat_minor": 2
}
