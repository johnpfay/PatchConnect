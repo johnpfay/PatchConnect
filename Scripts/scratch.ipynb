{
 "cells": [
  {
   "cell_type": "code",
   "execution_count": 5,
   "metadata": {},
   "outputs": [],
   "source": [
    "import numpy as np\n",
    "import pandas as pd\n",
    "import os"
   ]
  },
  {
   "cell_type": "code",
   "execution_count": 3,
   "metadata": {},
   "outputs": [
    {
     "data": {
      "text/plain": [
       "'C:\\\\Workspace\\\\PatchConnect\\\\Data'"
      ]
     },
     "execution_count": 3,
     "metadata": {},
     "output_type": "execute_result"
    }
   ],
   "source": [
    "arcpy.env.workspace"
   ]
  },
  {
   "cell_type": "code",
   "execution_count": 6,
   "metadata": {},
   "outputs": [
    {
     "name": "stdout",
     "output_type": "stream",
     "text": [
      "C:\\Workspace\\PatchConnect\\Data\\LCPS.gdb\n",
      "345 paths returned\n"
     ]
    }
   ],
   "source": [
    "##Get the list of LCPS\n",
    "#Get the current WD\n",
    "currentWD = arcpy.env.workspace\n",
    "#Set WD to the LCPs geodatabase\n",
    "arcpy.env.workspace = os.path.join(currentWD,'LCPS.gdb')\n",
    "arcpy.envworkspace = currentWD\n",
    "print (arcpy.env.workspace)\n",
    "#Get a list of filenames\n",
    "LCPS = arcpy.ListFeatureClasses()\n",
    "print(f'{len(LCPS)} paths returned')"
   ]
  },
  {
   "cell_type": "code",
   "execution_count": 11,
   "metadata": {},
   "outputs": [],
   "source": [
    "#Iterate through each and build a dataframe \n",
    "theDFs = []\n",
    "for fc in LCPS:\n",
    "    FromID = int(fc[5:])\n",
    "    #Convert to numpy array\n",
    "    arr = arcpy.da.FeatureClassToNumPyArray(fc, ['DestID','PathCost'])\n",
    "    #Convert to dataframe, selecting rows where the DestID >= From ID\n",
    "    df = pd.DataFrame(arr).query(f'DestID > {FromID}')\n",
    "    #Add From ID column\n",
    "    df['FromID'] = FromID\n",
    "    #Add to the collection\n",
    "    theDFs.append(df)"
   ]
  },
  {
   "cell_type": "code",
   "execution_count": 12,
   "metadata": {},
   "outputs": [
    {
     "data": {
      "text/html": [
       "<div>\n",
       "<style scoped>\n",
       "    .dataframe tbody tr th:only-of-type {\n",
       "        vertical-align: middle;\n",
       "    }\n",
       "\n",
       "    .dataframe tbody tr th {\n",
       "        vertical-align: top;\n",
       "    }\n",
       "\n",
       "    .dataframe thead th {\n",
       "        text-align: right;\n",
       "    }\n",
       "</style>\n",
       "<table border=\"1\" class=\"dataframe\">\n",
       "  <thead>\n",
       "    <tr style=\"text-align: right;\">\n",
       "      <th></th>\n",
       "      <th>DestID</th>\n",
       "      <th>PathCost</th>\n",
       "      <th>FromID</th>\n",
       "    </tr>\n",
       "  </thead>\n",
       "  <tbody>\n",
       "    <tr>\n",
       "      <th>1</th>\n",
       "      <td>2</td>\n",
       "      <td>67859.429688</td>\n",
       "      <td>1</td>\n",
       "    </tr>\n",
       "    <tr>\n",
       "      <th>2</th>\n",
       "      <td>3</td>\n",
       "      <td>25703.056641</td>\n",
       "      <td>1</td>\n",
       "    </tr>\n",
       "    <tr>\n",
       "      <th>3</th>\n",
       "      <td>4</td>\n",
       "      <td>14139.107422</td>\n",
       "      <td>1</td>\n",
       "    </tr>\n",
       "    <tr>\n",
       "      <th>4</th>\n",
       "      <td>5</td>\n",
       "      <td>17701.773438</td>\n",
       "      <td>1</td>\n",
       "    </tr>\n",
       "    <tr>\n",
       "      <th>5</th>\n",
       "      <td>6</td>\n",
       "      <td>72228.867188</td>\n",
       "      <td>1</td>\n",
       "    </tr>\n",
       "  </tbody>\n",
       "</table>\n",
       "</div>"
      ],
      "text/plain": [
       "   DestID      PathCost  FromID\n",
       "1       2  67859.429688       1\n",
       "2       3  25703.056641       1\n",
       "3       4  14139.107422       1\n",
       "4       5  17701.773438       1\n",
       "5       6  72228.867188       1"
      ]
     },
     "execution_count": 12,
     "metadata": {},
     "output_type": "execute_result"
    }
   ],
   "source": [
    "#Concatenate all dfs\n",
    "outDF = pd.concat(theDFs)\n",
    "#Export to CSV\n",
    "outDF[['FromID','DestID','PathCost']].to_csv('EdgeList_v2.csv',index=False)"
   ]
  }
 ],
 "metadata": {
  "kernelspec": {
   "display_name": "ArcGISPro",
   "language": "Python",
   "name": "python3"
  },
  "language_info": {
   "file_extension": ".py",
   "name": "python",
   "version": "3"
  }
 },
 "nbformat": 4,
 "nbformat_minor": 2
}
