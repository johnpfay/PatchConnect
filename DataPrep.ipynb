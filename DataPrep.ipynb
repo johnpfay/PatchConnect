{
 "cells": [
  {
   "cell_type": "code",
   "execution_count": 1,
   "metadata": {},
   "outputs": [],
   "source": [
    "#Import packages\n",
    "import os\n",
    "import arcpy\n",
    "from arcpy.sa import *\n",
    "\n",
    "import arcgis as ag\n",
    "gis = ag.GIS()\n",
    "\n",
    "import numpy as np\n",
    "import pandas as pd\n",
    "from skimage import graph\n",
    "from matplotlib import pyplot as plt"
   ]
  },
  {
   "cell_type": "code",
   "execution_count": 6,
   "metadata": {},
   "outputs": [],
   "source": [
    "wd = \"C:\\\\Workspace\\\\PatchConnect_2021\"\n",
    "patchRaster = os.path.join(wd,\"Data\",\"ENH_LCP_ModelInputs_Final2019.gdb\",\"S_Patches_60ha\")\n",
    "costRaster = os.path.join(wd,\"Data\",\"ENH_LCP_ModelInputs_Final2019.gdb\",\"S_CostSurface\")"
   ]
  },
  {
   "cell_type": "code",
   "execution_count": 7,
   "metadata": {},
   "outputs": [],
   "source": [
    "#Get the spatial reference, extent, and lower left coordinates\n",
    "sr = arcpy.Describe(costRaster).spatialReference\n",
    "cellSize = arcpy.Describe(costRaster).meanCellWidth\n",
    "extent = arcpy.Describe(costRaster).extent\n",
    "llCorner = arcpy.Point(extent.XMin,extent.YMin)"
   ]
  },
  {
   "cell_type": "code",
   "execution_count": 12,
   "metadata": {},
   "outputs": [],
   "source": [
    "#Create arrays of the patch and core rasters\n",
    "arrPatch = arcpy.RasterToNumPyArray(patchRaster,\n",
    "                                    lower_left_corner=llCorner,\n",
    "                                    nodata_to_value=-9999)"
   ]
  },
  {
   "cell_type": "code",
   "execution_count": 13,
   "metadata": {},
   "outputs": [],
   "source": [
    "arrCost = arcpy.RasterToNumPyArray(costRaster,\n",
    "                                   lower_left_corner=llCorner,\n",
    "                                   nodata_to_value=-9999)\n"
   ]
  },
  {
   "cell_type": "code",
   "execution_count": 16,
   "metadata": {},
   "outputs": [],
   "source": [
    "#Create a list of patchIDs\n",
    "patchIDs = np.unique(arrPatch).tolist()\n",
    "patchIDs.remove(-9999)"
   ]
  },
  {
   "cell_type": "code",
   "execution_count": 17,
   "metadata": {},
   "outputs": [],
   "source": [
    "#Initialize the arrayList and edgeList lists\n",
    "arrList = []\n",
    "edgeList = []"
   ]
  },
  {
   "cell_type": "code",
   "execution_count": 28,
   "metadata": {},
   "outputs": [
    {
     "ename": "AttributeError",
     "evalue": "'numpy.ndarray' object has no attribute 'unique'",
     "output_type": "error",
     "traceback": [
      "\u001b[0;31m---------------------------------------------------------------------------\u001b[0m\n\u001b[0;31mAttributeError\u001b[0m                            Traceback (most recent call last)",
      "In  \u001b[0;34m[28]\u001b[0m:\nLine \u001b[0;34m1\u001b[0m:     arrPatch.unique\n",
      "\u001b[0;31mAttributeError\u001b[0m: 'numpy.ndarray' object has no attribute 'unique'\n\u001b[0;31m---------------------------------------------------------------------------\u001b[0m"
     ]
    }
   ],
   "source": [
    "(arrPatch == 1).sum()"
   ]
  },
  {
   "cell_type": "code",
   "execution_count": 20,
   "metadata": {},
   "outputs": [
    {
     "ename": "IndexError",
     "evalue": "boolean index did not match indexed array along dimension 0; dimension is 2690 but corresponding boolean dimension is 2692",
     "output_type": "error",
     "traceback": [
      "\u001b[0;31m---------------------------------------------------------------------------\u001b[0m\n\u001b[0;31mIndexError\u001b[0m                                Traceback (most recent call last)",
      "In  \u001b[0;34m[20]\u001b[0m:\nLine \u001b[0;34m5\u001b[0m:     arrCostMod[arrPatch == patchID] = \u001b[34m0\u001b[39;49;00m\n",
      "\u001b[0;31mIndexError\u001b[0m: boolean index did not match indexed array along dimension 0; dimension is 2690 but corresponding boolean dimension is 2692\n\u001b[0;31m---------------------------------------------------------------------------\u001b[0m"
     ]
    }
   ],
   "source": [
    "patchID = patchIDs[0]\n",
    "\n",
    "#Reclassify cost in source patch cells to zero\n",
    "arrCostMod = arrCost.copy()\n",
    "arrCostMod[arrPatch == patchID] = 0\n",
    "#arrCostMod[arrCostMod == -9999] = 100000"
   ]
  }
 ],
 "metadata": {
  "kernelspec": {
   "display_name": "ArcGISPro",
   "language": "Python",
   "name": "python3"
  },
  "language_info": {
   "file_extension": ".py",
   "name": "python",
   "version": "3"
  }
 },
 "nbformat": 4,
 "nbformat_minor": 2
}
