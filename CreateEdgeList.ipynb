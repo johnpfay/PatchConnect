{
 "cells": [
  {
   "cell_type": "markdown",
   "metadata": {},
   "source": [
    "## Create Edge List\n",
    "Creates an edge list for each patch in a provided patch raster and cost surface"
   ]
  },
  {
   "cell_type": "code",
   "execution_count": 1,
   "metadata": {},
   "outputs": [],
   "source": [
    "#Import libraries\n",
    "import arcpy\n",
    "from arcpy.sa import *\n",
    "import numpy as np\n",
    "import pandas as pd\n",
    "\n",
    "#Set workspaces\n",
    "#arcpy.env.workspace = 'C:/Workspace/PronghornConnectivity/PronghornConnectivity.gdb'\n",
    "#arcpy.env.scratchWorkspace = 'C:/Workspace/PronghornConnectivity/Scratch/Scratch.gdb'\n",
    "#arcpy.env.overwriteOutput = True"
   ]
  },
  {
   "cell_type": "code",
   "execution_count": 2,
   "metadata": {},
   "outputs": [],
   "source": [
    "def msg(txt):\n",
    "    print(txt)\n",
    "    arcpy.AddMessage(txt)\n",
    "    return"
   ]
  },
  {
   "cell_type": "code",
   "execution_count": 84,
   "metadata": {},
   "outputs": [],
   "source": [
    "#Get input datasets: Patches and CostSurface\n",
    "patchRaster = 'C:/Workspace/PronghornConnectivity/PronghornConnectivity.gdb/PatchCores'\n",
    "costSurface = 'C:/Workspace/PronghornConnectivity/PronghornConnectivity.gdb/CostSurface'\n",
    "\n",
    "maxCostDistance = 100000"
   ]
  },
  {
   "cell_type": "code",
   "execution_count": 73,
   "metadata": {},
   "outputs": [],
   "source": [
    "#Get list of patch IDs\n",
    "#Create empty list\n",
    "patchIDs = []\n",
    "#Convert values to numpy array\n",
    "arr = arcpy.da.TableToNumPyArray(patchRaster,\"Value\")\n",
    "#Loop through records\n",
    "for i in arr.tolist():\n",
    "    patchIDs.append(i[0])"
   ]
  },
  {
   "cell_type": "code",
   "execution_count": 88,
   "metadata": {},
   "outputs": [],
   "source": [
    "#Get the source patch\n",
    "for patchID in patchIDs[:5]:\n",
    "    msg(\"Running patch {}\".format(patchID))\n",
    "\n",
    "    #Get the source patch\n",
    "    msg(\"Isolating source patch...\")\n",
    "    thePatch = Con(patchRaster,patchID,\"\",\"VALUE = {}\".format(patchID))\n",
    "\n",
    "    #Calculate cost distance from the patch\n",
    "    msg(\"Computing cost distance...\")\n",
    "    theCostDist = CostDistance(thePatch,costSurface,maxCostDistance)\n",
    "\n",
    "    #Computing LCP distance to other Patches\n",
    "    msg(\"Computing LCP distances to other patches\")\n",
    "    outZTable = \"zmin{}\".format(patchID)\n",
    "    zMin = ZonalStatisticsAsTable(patchRaster,\"Value\",theCostDist,outZTable,\"DATA\",\"Minimum\")\n",
    "\n",
    "    ##Convert table to a pandas dataframe\n",
    "    msg(\"Creating table\")\n",
    "    #Convert arcTable to numpy Array\n",
    "    arrZS = arcpy.da.TableToNumPyArray(outZTable,['VALUE','MIN'])\n",
    "    #Convert to pandas dataframe\n",
    "    dfZS = pd.DataFrame(arrZS)\n",
    "    #Rename columns\n",
    "    dfZS.columns = ['To_ID','Cost']\n",
    "    #Add the from ID column\n",
    "    dfZS['From_ID'] = patchID\n",
    "    #Rearrange columns\n",
    "    dfZS = dfZS[[\"From_ID\",\"To_ID\",\"Cost\"]]\n",
    "\n",
    "    #If first table, make the output df; otherwise append records\n",
    "    if patchID == 1:\n",
    "        dfOut = dfZS.copy(deep=True)\n",
    "    else:\n",
    "        msg(\"Adding records\")\n",
    "        dfOut = pd.concat([dfOut,dfZS[dfZS.To_ID > dfZS.From_ID]])\n",
    "\n",
    "#Write the list to csv file\n",
    "dfOut.to_csv(\"EdgeList.csv\",index=False)"
   ]
  }
 ],
 "metadata": {
  "kernelspec": {
   "display_name": "ArcGISPro",
   "language": "Python",
   "name": "python3"
  },
  "language_info": {
   "file_extension": ".py",
   "name": "python",
   "version": "3"
  }
 },
 "nbformat": 4,
 "nbformat_minor": 2
}
