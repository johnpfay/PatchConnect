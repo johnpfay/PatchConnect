{
 "cells": [
  {
   "cell_type": "markdown",
   "metadata": {},
   "source": [
    "## Create Edge List\n",
    "Creates an edge list for each patch in a provided patch raster and cost surface"
   ]
  },
  {
   "cell_type": "code",
   "execution_count": 2,
   "metadata": {},
   "outputs": [],
   "source": [
    "#Import libraries\n",
    "import arcpy\n",
    "from arcpy.sa import *\n",
    "import numpy as np\n",
    "import pandas as pd\n",
    "from skimage import graph\n",
    "from matplotlib import pyplot as plt"
   ]
  },
  {
   "cell_type": "code",
   "execution_count": 3,
   "metadata": {},
   "outputs": [],
   "source": [
    "#Set workspaces\n",
    "arcpy.env.workspace = 'C:/Workspace/PronghornConnectivity/PronghornConnectivity.gdb'\n",
    "arcpy.env.scratchWorkspace = 'C:/Workspace/PronghornConnectivity/Scratch/Scratch.gdb'\n",
    "arcpy.env.overwriteOutput = True"
   ]
  },
  {
   "cell_type": "code",
   "execution_count": 4,
   "metadata": {},
   "outputs": [],
   "source": [
    "def msg(txt):\n",
    "    print(txt)\n",
    "    arcpy.AddMessage(txt)\n",
    "    return"
   ]
  },
  {
   "cell_type": "code",
   "execution_count": 8,
   "metadata": {},
   "outputs": [],
   "source": [
    "#Get input datasets: Patches and CostSurface\n",
    "patchRaster = 'C:/Workspace/PronghornConnectivity/PronghornConnectivity.gdb/PatchCores'\n",
    "if not arcpy.Exists(patchRaster):\n",
    "    print(\"Cannot locate patch raster\")\n",
    "\n",
    "costRaster = 'C:/Workspace/PronghornConnectivity/PronghornConnectivity.gdb/CostSurface'\n",
    "if not arcpy.Exists(costRaster):\n",
    "    print(\"Cannot locate cost surface raster\")\n",
    "    \n",
    "maxCostDistance = 100000\n",
    "\n",
    "outRaster = 'C:/Workspace/PronghornConnectivity/PronghornConnectivity.gdb/CD{}'\n",
    "edgeListFN = 'C:/Workspace/PronghornConnectivity/Scratch/EdgeList.csv'"
   ]
  },
  {
   "cell_type": "code",
   "execution_count": 9,
   "metadata": {},
   "outputs": [],
   "source": [
    "#Get the spatial reference, extent, and lower left coordinates\n",
    "sr = arcpy.Describe(costRaster).spatialReference\n",
    "cellSize = arcpy.Describe(costRaster).meanCellWidth\n",
    "extent = arcpy.Describe(costRaster).extent\n",
    "llCorner = arcpy.Point(extent.XMin,extent.YMin)"
   ]
  },
  {
   "cell_type": "code",
   "execution_count": 10,
   "metadata": {},
   "outputs": [],
   "source": [
    "#Create arrays of the patch and core rasters\n",
    "arrPatch = arcpy.RasterToNumPyArray(patchRaster,\n",
    "                                    lower_left_corner=llCorner,\n",
    "                                    nodata_to_value=-9999)\n",
    "\n",
    "arrCost = arcpy.RasterToNumPyArray(costRaster,\n",
    "                                   lower_left_corner=llCorner,\n",
    "                                   nodata_to_value=-9999)"
   ]
  },
  {
   "cell_type": "code",
   "execution_count": 11,
   "metadata": {},
   "outputs": [],
   "source": [
    "#Create a list of patchIDs\n",
    "patchIDs = np.unique(arrPatch).tolist()\n",
    "patchIDs.remove(-9999)"
   ]
  },
  {
   "cell_type": "code",
   "execution_count": 13,
   "metadata": {},
   "outputs": [
    {
     "name": "stdout",
     "output_type": "stream",
     "text": [
      "1...\n"
     ]
    }
   ],
   "source": [
    "arrList = []\n",
    "edgeList = []\n",
    "for patchID in patchIDs[:1]:\n",
    "    msg(\"{}...\".format(patchID))\n",
    "\n",
    "    #Reclassify cost in patch cells to zero\n",
    "    arrCostMod = arrCost.copy()\n",
    "    arrCostMod[arrPatch == patchID] = 0\n",
    "    arrCostMod[arrCostMod == -9999] = 100000\n",
    "\n",
    "    #Create the MCP object (Geometric accounts for diagonals)\n",
    "    lg = graph.MCP_Geometric(arrCostMod, sampling=(cellSize, cellSize))\n",
    "\n",
    "    #Get the index of a cell in the current patch ID\n",
    "    i,j = np.where(arrPatch == patchID)\n",
    "    startCells = list(zip(i,j))\n",
    "\n",
    "    #Compute cost distances away from a source\n",
    "    lcd = lg.find_costs(starts=startCells)[0]\n",
    "    \n",
    "    #Write the output to the edgelist\n",
    "    for toID in patchIDs:\n",
    "        if toID > patchID:\n",
    "            edgeList.append((patchID, toID, lcd[arrPatch == toID].min()))\n",
    "\n",
    "    #Add array to arrList\n",
    "    arrList.append(lcd)\n",
    "\n",
    "#Save cost distance raster\n",
    "#np.save(\"cd{}\".format(patchID),lcd)\n",
    "\n",
    "#Write the edges to the edgeListFN\n",
    "np.savetxt(edgeListFN,np.asarray(edgeList),\n",
    "           delimiter=\",\", \n",
    "           fmt='%d,%d,%2.4f', \n",
    "           header=(\"From,To,Cost\"))"
   ]
  },
  {
   "cell_type": "code",
   "execution_count": 16,
   "metadata": {},
   "outputs": [],
   "source": [
    "#Traceback\n",
    "tb = lg.traceback([1,1])"
   ]
  },
  {
   "cell_type": "code",
   "execution_count": null,
   "metadata": {},
   "outputs": [],
   "source": [
    "#Merge arrays and save to a file\n",
    "arrCDs = np.stack(arrList)\n",
    "np.savetxt('edge.csv',arrCDs)"
   ]
  },
  {
   "cell_type": "code",
   "execution_count": null,
   "metadata": {},
   "outputs": [],
   "source": [
    "#Convert patch ID back to raster\n",
    "lcd2 = lcd.copy()\n",
    "lcd2[arrCost == -9999] = np.nan\n",
    "lcdRaster = arcpy.NumPyArrayToRaster(lcd2,llCorner,cellSize,cellSize)\n",
    "\n",
    "lcdRaster.save(outRaster.format(patchID))\n",
    "arcpy.DefineProjection_management(in_dataset=lcdRaster,coor_system=sr);"
   ]
  },
  {
   "cell_type": "code",
   "execution_count": null,
   "metadata": {},
   "outputs": [],
   "source": [
    "arrEdge = np.array()"
   ]
  },
  {
   "cell_type": "code",
   "execution_count": null,
   "metadata": {},
   "outputs": [],
   "source": [
    "#Zonal stats\n",
    "edges = []\n",
    "for toID in patchIDs:\n",
    "    if toID > patchID:\n",
    "        edges.append((patchID, toID, lcd[arrPatch == toID].min()))"
   ]
  },
  {
   "cell_type": "code",
   "execution_count": null,
   "metadata": {},
   "outputs": [],
   "source": [
    "arrEdge = np.asarray(edges,dtype=np.int)"
   ]
  },
  {
   "cell_type": "code",
   "execution_count": null,
   "metadata": {},
   "outputs": [],
   "source": [
    "arrEdge[3]"
   ]
  }
 ],
 "metadata": {
  "kernelspec": {
   "display_name": "ArcGISPro",
   "language": "Python",
   "name": "python3"
  },
  "language_info": {
   "file_extension": ".py",
   "name": "python",
   "version": "3"
  }
 },
 "nbformat": 4,
 "nbformat_minor": 2
}
